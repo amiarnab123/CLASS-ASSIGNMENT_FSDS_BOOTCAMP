{
 "cells": [
  {
   "cell_type": "code",
   "execution_count": 2,
   "id": "549d3561",
   "metadata": {},
   "outputs": [],
   "source": [
    "s = \"this is My First Python programming class and i am learNING python string and its function\""
   ]
  },
  {
   "cell_type": "markdown",
   "id": "90adacaa",
   "metadata": {},
   "source": [
    "### 1 . Try to extract data from index one to index 300 with a jump of 3 "
   ]
  },
  {
   "cell_type": "code",
   "execution_count": 3,
   "id": "ed7adb73",
   "metadata": {},
   "outputs": [
    {
     "data": {
      "text/plain": [
       "'h   r tnrrmglsnimeNGyosi dtfco'"
      ]
     },
     "execution_count": 3,
     "metadata": {},
     "output_type": "execute_result"
    }
   ],
   "source": [
    "s[1:300:3]"
   ]
  },
  {
   "cell_type": "markdown",
   "id": "5b547a7a",
   "metadata": {},
   "source": [
    "### 2. Try to reverse a string without using reverse function"
   ]
  },
  {
   "cell_type": "code",
   "execution_count": 4,
   "id": "38ae96da",
   "metadata": {},
   "outputs": [
    {
     "data": {
      "text/plain": [
       "'noitcnuf sti dna gnirts nohtyp GNINrael ma i dna ssalc gnimmargorp nohtyP tsriF yM si siht'"
      ]
     },
     "execution_count": 4,
     "metadata": {},
     "output_type": "execute_result"
    }
   ],
   "source": [
    "s[::-1]"
   ]
  },
  {
   "cell_type": "markdown",
   "id": "965691f2",
   "metadata": {},
   "source": [
    "### 3. Try to split a string after conversion of entire string in uppercase "
   ]
  },
  {
   "cell_type": "code",
   "execution_count": 7,
   "id": "9efb3c6b",
   "metadata": {},
   "outputs": [],
   "source": [
    "s_upper=s.upper()"
   ]
  },
  {
   "cell_type": "code",
   "execution_count": 8,
   "id": "d181d89c",
   "metadata": {},
   "outputs": [
    {
     "data": {
      "text/plain": [
       "['THIS',\n",
       " 'IS',\n",
       " 'MY',\n",
       " 'FIRST',\n",
       " 'PYTHON',\n",
       " 'PROGRAMMING',\n",
       " 'CLASS',\n",
       " 'AND',\n",
       " 'I',\n",
       " 'AM',\n",
       " 'LEARNING',\n",
       " 'PYTHON',\n",
       " 'STRING',\n",
       " 'AND',\n",
       " 'ITS',\n",
       " 'FUNCTION']"
      ]
     },
     "execution_count": 8,
     "metadata": {},
     "output_type": "execute_result"
    }
   ],
   "source": [
    "s_upper.split()"
   ]
  },
  {
   "cell_type": "markdown",
   "id": "b4e9967e",
   "metadata": {},
   "source": [
    "### 4. try to convert the whole string into lower case "
   ]
  },
  {
   "cell_type": "code",
   "execution_count": 9,
   "id": "6eaff6e3",
   "metadata": {},
   "outputs": [
    {
     "data": {
      "text/plain": [
       "'this is my first python programming class and i am learning python string and its function'"
      ]
     },
     "execution_count": 9,
     "metadata": {},
     "output_type": "execute_result"
    }
   ],
   "source": [
    "s.lower()"
   ]
  },
  {
   "cell_type": "markdown",
   "id": "b8212406",
   "metadata": {},
   "source": [
    "### 5 . Try to capitalize the whole string"
   ]
  },
  {
   "cell_type": "code",
   "execution_count": 10,
   "id": "fd568581",
   "metadata": {},
   "outputs": [
    {
     "data": {
      "text/plain": [
       "'This is my first python programming class and i am learning python string and its function'"
      ]
     },
     "execution_count": 10,
     "metadata": {},
     "output_type": "execute_result"
    }
   ],
   "source": [
    "s.capitalize()"
   ]
  },
  {
   "cell_type": "markdown",
   "id": "681781f4",
   "metadata": {},
   "source": [
    "### 6 . Write a diference between isalnum() and isalpha()"
   ]
  },
  {
   "cell_type": "code",
   "execution_count": 11,
   "id": "3c16e6c2",
   "metadata": {},
   "outputs": [
    {
     "data": {
      "text/plain": [
       "False"
      ]
     },
     "execution_count": 11,
     "metadata": {},
     "output_type": "execute_result"
    }
   ],
   "source": [
    "s.isalnum()"
   ]
  },
  {
   "cell_type": "code",
   "execution_count": 12,
   "id": "2ef077ea",
   "metadata": {},
   "outputs": [
    {
     "data": {
      "text/plain": [
       "False"
      ]
     },
     "execution_count": 12,
     "metadata": {},
     "output_type": "execute_result"
    }
   ],
   "source": [
    "s.isalpha()"
   ]
  },
  {
   "cell_type": "code",
   "execution_count": null,
   "id": "26eb9abe",
   "metadata": {},
   "outputs": [],
   "source": [
    "isalpha() method returns True if all characters in the string are alphabets.\n",
    "isalnum() method returns True if all characters in the string are alphanumeric."
   ]
  },
  {
   "cell_type": "markdown",
   "id": "104b0bde",
   "metadata": {},
   "source": [
    "### 7. Try to give an example of expand tab"
   ]
  },
  {
   "cell_type": "code",
   "execution_count": 13,
   "id": "e967616a",
   "metadata": {},
   "outputs": [],
   "source": [
    "s1='arnab\\tmanna'"
   ]
  },
  {
   "cell_type": "code",
   "execution_count": 15,
   "id": "c2be8a58",
   "metadata": {},
   "outputs": [
    {
     "data": {
      "text/plain": [
       "'arnab manna'"
      ]
     },
     "execution_count": 15,
     "metadata": {},
     "output_type": "execute_result"
    }
   ],
   "source": [
    "s1.expandtabs(1) #example of expandtabs function"
   ]
  },
  {
   "cell_type": "markdown",
   "id": "1183a3a9",
   "metadata": {},
   "source": [
    "### 8 . Give an example of strip , lstrip and rstrip"
   ]
  },
  {
   "cell_type": "code",
   "execution_count": 20,
   "id": "a0d4dec3",
   "metadata": {},
   "outputs": [],
   "source": [
    "s2='   FSDS    Bootcamp   '"
   ]
  },
  {
   "cell_type": "code",
   "execution_count": 21,
   "id": "53ede1f7",
   "metadata": {},
   "outputs": [
    {
     "data": {
      "text/plain": [
       "'FSDS    Bootcamp'"
      ]
     },
     "execution_count": 21,
     "metadata": {},
     "output_type": "execute_result"
    }
   ],
   "source": [
    "s2.strip()"
   ]
  },
  {
   "cell_type": "code",
   "execution_count": 22,
   "id": "f3c8296a",
   "metadata": {},
   "outputs": [
    {
     "data": {
      "text/plain": [
       "'FSDS    Bootcamp   '"
      ]
     },
     "execution_count": 22,
     "metadata": {},
     "output_type": "execute_result"
    }
   ],
   "source": [
    "s2.lstrip()"
   ]
  },
  {
   "cell_type": "code",
   "execution_count": 23,
   "id": "eb444131",
   "metadata": {},
   "outputs": [
    {
     "data": {
      "text/plain": [
       "'   FSDS    Bootcamp'"
      ]
     },
     "execution_count": 23,
     "metadata": {},
     "output_type": "execute_result"
    }
   ],
   "source": [
    "s2.rstrip()"
   ]
  },
  {
   "cell_type": "markdown",
   "id": "2d155361",
   "metadata": {},
   "source": [
    "### 9.  Replace a string character by another charactor by taking your own example \n",
    "\"sudhanshu\""
   ]
  },
  {
   "cell_type": "code",
   "execution_count": 44,
   "id": "da6d2891",
   "metadata": {},
   "outputs": [],
   "source": [
    "s3=\"sudhanshu\""
   ]
  },
  {
   "cell_type": "code",
   "execution_count": 46,
   "id": "8f1020a7",
   "metadata": {},
   "outputs": [
    {
     "data": {
      "text/plain": [
       "'sadhansha'"
      ]
     },
     "execution_count": 46,
     "metadata": {},
     "output_type": "execute_result"
    }
   ],
   "source": [
    "s3.replace('u','a')"
   ]
  },
  {
   "cell_type": "markdown",
   "id": "41e3c3ee",
   "metadata": {},
   "source": [
    "### 10 . Try  to give a defination of string center function with and exmple "
   ]
  },
  {
   "cell_type": "code",
   "execution_count": 47,
   "id": "e9083dab",
   "metadata": {},
   "outputs": [],
   "source": [
    "s4='Rohit'"
   ]
  },
  {
   "cell_type": "code",
   "execution_count": 49,
   "id": "fab1b3a1",
   "metadata": {},
   "outputs": [
    {
     "data": {
      "text/plain": [
       "'************Rohit*************'"
      ]
     },
     "execution_count": 49,
     "metadata": {},
     "output_type": "execute_result"
    }
   ],
   "source": [
    "s4.center(30, '*')"
   ]
  },
  {
   "cell_type": "code",
   "execution_count": null,
   "id": "03b20815",
   "metadata": {},
   "outputs": [],
   "source": [
    "Here center function actually place 30, '*' character before and after the \n",
    "string(keep 'Rohit' string in a center position)"
   ]
  },
  {
   "cell_type": "markdown",
   "id": "dfebb7ba",
   "metadata": {},
   "source": [
    "### 11 . Write your own definition of compiler and interpretor without copy paste form internet in your own language"
   ]
  },
  {
   "cell_type": "code",
   "execution_count": null,
   "id": "ced1bf40",
   "metadata": {},
   "outputs": [],
   "source": [
    "compiler is used to convert the source code (written in say c programming) to machine(binary) code.\n",
    "interpretor is used to verify the machine code line by line and say me wheather there has any error\n",
    "or not"
   ]
  },
  {
   "cell_type": "markdown",
   "id": "c710d5f5",
   "metadata": {},
   "source": [
    "### 12 . Python is a interpreted of compiled language give a clear ans with your understanding "
   ]
  },
  {
   "cell_type": "code",
   "execution_count": null,
   "id": "31fad626",
   "metadata": {},
   "outputs": [],
   "source": [
    "python is a compiled interpreted language.Actually we take the binary code which is already written\n",
    "in other programming language mainly in c programming language."
   ]
  },
  {
   "cell_type": "markdown",
   "id": "fc7771cf",
   "metadata": {},
   "source": [
    "### 13 . Try to write a usecase of python with your understanding ."
   ]
  },
  {
   "cell_type": "code",
   "execution_count": null,
   "id": "c98233c8",
   "metadata": {},
   "outputs": [],
   "source": [
    "python is used in any kind of data analysis purpose. If we want to implement a ml or dl algorithm in \n",
    "any real life problem for this we need python."
   ]
  }
 ],
 "metadata": {
  "kernelspec": {
   "display_name": "Python 3",
   "language": "python",
   "name": "python3"
  },
  "language_info": {
   "codemirror_mode": {
    "name": "ipython",
    "version": 3
   },
   "file_extension": ".py",
   "mimetype": "text/x-python",
   "name": "python",
   "nbconvert_exporter": "python",
   "pygments_lexer": "ipython3",
   "version": "3.8.8"
  }
 },
 "nbformat": 4,
 "nbformat_minor": 5
}
